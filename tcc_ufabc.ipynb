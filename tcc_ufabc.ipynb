{
  "nbformat": 4,
  "nbformat_minor": 0,
  "metadata": {
    "colab": {
      "name": "tcc_ufabc.ipynb",
      "provenance": [],
      "authorship_tag": "ABX9TyMegmjhWfpgD/gIY9SJLnsM",
      "include_colab_link": true
    },
    "kernelspec": {
      "name": "python3",
      "display_name": "Python 3"
    },
    "language_info": {
      "name": "python"
    }
  },
  "cells": [
    {
      "cell_type": "markdown",
      "metadata": {
        "id": "view-in-github",
        "colab_type": "text"
      },
      "source": [
        "<a href=\"https://colab.research.google.com/github/BrunoLad/tcc-ufabc/blob/main/tcc_ufabc.ipynb\" target=\"_parent\"><img src=\"https://colab.research.google.com/assets/colab-badge.svg\" alt=\"Open In Colab\"/></a>"
      ]
    },
    {
      "cell_type": "markdown",
      "metadata": {
        "id": "MIOaqUU8AWrQ"
      },
      "source": [
        "## Monta o google drive para leitura de dados"
      ]
    },
    {
      "cell_type": "code",
      "metadata": {
        "id": "TBgW6o55ASrM"
      },
      "source": [
        "from google.colab import drive\n",
        "drive.mount('/content/drive')"
      ],
      "execution_count": null,
      "outputs": []
    },
    {
      "cell_type": "markdown",
      "metadata": {
        "id": "cxxGZXicAZ8p"
      },
      "source": [
        "## Monta CSV com a lista de todos os livros presente na base, separando-o em um par de nome e título."
      ]
    },
    {
      "cell_type": "code",
      "metadata": {
        "id": "917KtN_sAcWs"
      },
      "source": [
        "import csv\n",
        "import os\n",
        "\n",
        "fileList = os.listdir('/content/drive/MyDrive/TCC/Gutenberg-q2nlbr/Gutenberg/txt')\n",
        "authorBookList = map(lambda file: file.split('___', 1), fileList)\n",
        "with open(os.getcwd() + '/books.csv', 'w') as csvfile:\n",
        "    writer = csv.writer(csvfile)\n",
        "    writer.writerow(['Autor', 'Título'])\n",
        "    for pair in authorBookList:\n",
        "        writer.writerow(pair)"
      ],
      "execution_count": null,
      "outputs": []
    },
    {
      "cell_type": "code",
      "metadata": {
        "id": "p20uWk_pAeau"
      },
      "source": [
        "import os\n",
        "import re\n",
        "\n",
        "def extract_line_from_file(file_name, string_to_search):\n",
        "  with open(file_name, 'r') as read_obj:\n",
        "    for line in read_obj:\n",
        "      if string_to_search in line:\n",
        "        return line\n",
        "  return ''\n",
        "\n",
        "pattern = r'[^_]*$'\n",
        "regex = re.compile(pattern, re.MULTILINE)\n",
        "fileList = os.listdir('/content/drive/MyDrive/TCC/Gutenberg-q2nlbr/Gutenberg/txt')\n",
        "bookTitles = map(lambda f: re.search(pattern, f).group().rstrip('.txt'), fileList)\n",
        "bookList = list(bookTitles)\n",
        "print(len(bookList))\n",
        "bookdata = []\n",
        "\n",
        "for book in bookList:\n",
        "  line = extract_line_from_file('/content/drive/MyDrive/TCC/Gutenberg-q2nlbr/Gutenberg/GUTINDEX.ALL06072021.txt', book)\n",
        "  match = re.search(r'\\d+', line)\n",
        "  if match:\n",
        "    bookdata.append(match.group())\n",
        "\n",
        "print(len(bookdata))\n",
        "print(bookdata)"
      ],
      "execution_count": null,
      "outputs": []
    }
  ]
}